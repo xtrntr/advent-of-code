{
 "cells": [
  {
   "cell_type": "markdown",
   "metadata": {},
   "source": [
    "## Day 1"
   ]
  },
  {
   "cell_type": "code",
   "execution_count": 14,
   "metadata": {},
   "outputs": [],
   "source": [
    "fo = open(\"day1.txt\")"
   ]
  },
  {
   "cell_type": "code",
   "execution_count": 6,
   "metadata": {},
   "outputs": [],
   "source": [
    "lines = fo.readlines()"
   ]
  },
  {
   "cell_type": "code",
   "execution_count": 10,
   "metadata": {},
   "outputs": [],
   "source": [
    "lines = [int(l.replace(\"\\n\", \"\")) for l in lines]"
   ]
  },
  {
   "cell_type": "code",
   "execution_count": 12,
   "metadata": {},
   "outputs": [
    {
     "data": {
      "text/plain": [
       "466"
      ]
     },
     "execution_count": 12,
     "metadata": {},
     "output_type": "execute_result"
    }
   ],
   "source": [
    "sum(lines)"
   ]
  },
  {
   "cell_type": "markdown",
   "metadata": {},
   "source": [
    "## Day 2"
   ]
  },
  {
   "cell_type": "code",
   "execution_count": 30,
   "metadata": {},
   "outputs": [
    {
     "name": "stdout",
     "output_type": "stream",
     "text": [
      "987\n",
      "1973\n",
      "2959\n",
      "3945\n",
      "4931\n",
      "5917\n",
      "6903\n",
      "7889\n",
      "8875\n",
      "9861\n",
      "10847\n",
      "11833\n",
      "12819\n",
      "13805\n",
      "14791\n",
      "15777\n",
      "16763\n",
      "17749\n",
      "18735\n",
      "19721\n",
      "20707\n",
      "21693\n",
      "22679\n",
      "23665\n",
      "24651\n",
      "25637\n",
      "26623\n",
      "27609\n",
      "28595\n",
      "29581\n",
      "30567\n",
      "31553\n",
      "32539\n",
      "33525\n",
      "34511\n",
      "35497\n",
      "36483\n",
      "37469\n",
      "38455\n",
      "39441\n",
      "40427\n",
      "41413\n",
      "42399\n",
      "43385\n",
      "44371\n",
      "45357\n",
      "46343\n",
      "47329\n",
      "48315\n",
      "49301\n",
      "50287\n",
      "51273\n",
      "52259\n",
      "53245\n",
      "54231\n",
      "55217\n",
      "56203\n",
      "57189\n",
      "58175\n",
      "59161\n",
      "60147\n",
      "61133\n",
      "62119\n",
      "63105\n",
      "64091\n",
      "65077\n",
      "66063\n",
      "67049\n",
      "68035\n",
      "69021\n",
      "70007\n",
      "70993\n",
      "71979\n",
      "72965\n",
      "73951\n",
      "74937\n",
      "75923\n",
      "76909\n",
      "77895\n",
      "78881\n",
      "79867\n",
      "80853\n",
      "81839\n",
      "82825\n",
      "83811\n",
      "84797\n",
      "85783\n",
      "86769\n",
      "87755\n",
      "88741\n",
      "89727\n",
      "90713\n",
      "91699\n",
      "92685\n",
      "93671\n",
      "94657\n",
      "95643\n",
      "96629\n",
      "97615\n",
      "98601\n",
      "99587\n",
      "100573\n",
      "101559\n",
      "102545\n",
      "103531\n",
      "104517\n",
      "105503\n",
      "106489\n",
      "107475\n",
      "108461\n",
      "109447\n",
      "110433\n",
      "111419\n",
      "112405\n",
      "113391\n",
      "114377\n",
      "115363\n",
      "116349\n",
      "117335\n",
      "118321\n",
      "119307\n",
      "120293\n",
      "121279\n",
      "122265\n",
      "123251\n",
      "124237\n",
      "125223\n",
      "126209\n",
      "127195\n",
      "128181\n",
      "129167\n",
      "130153\n",
      "131139\n",
      "132125\n",
      "133111\n",
      "133576\n"
     ]
    },
    {
     "data": {
      "text/plain": [
       "750"
      ]
     },
     "execution_count": 30,
     "metadata": {},
     "output_type": "execute_result"
    }
   ],
   "source": [
    "explored = [0]\n",
    "current = 0\n",
    "reached_twice = False\n",
    "while reached_twice == False:\n",
    "    for freq in lines:\n",
    "        current += freq\n",
    "        if current in explored:\n",
    "            reached_twice = True\n",
    "            break\n",
    "        else:\n",
    "            explored.append(current)\n",
    "\n",
    "current"
   ]
  },
  {
   "cell_type": "code",
   "execution_count": 33,
   "metadata": {},
   "outputs": [],
   "source": [
    "fo2 = open(\"day2.txt\")\n",
    "box_ids =  [l.replace(\"\\n\", \"\") for l in fo2.readlines()]"
   ]
  },
  {
   "cell_type": "code",
   "execution_count": 55,
   "metadata": {},
   "outputs": [],
   "source": [
    "def checksum(box_ids):\n",
    "    count = {2: 0, 3:0}\n",
    "    for box_id in box_ids:\n",
    "        fq = defaultdict(int)\n",
    "        for c in box_id:\n",
    "            fq[c] += 1\n",
    "            inv_map = {v: k for k, v in fq.items()}\n",
    "        if 2 in inv_map:\n",
    "            count[2] += 1\n",
    "        if 3 in inv_map:\n",
    "            count[3] += 1\n",
    "    rtn = count[2] * count[3]\n",
    "    return rtn\n",
    "\n",
    "test_input = ['abcdef', 'bababc', 'abbcde', 'abcccd', 'aabcdd', 'abcdee', 'ababab']\n",
    "\n",
    "assert checksum(test_input) == 12"
   ]
  },
  {
   "cell_type": "code",
   "execution_count": 56,
   "metadata": {},
   "outputs": [
    {
     "data": {
      "text/plain": [
       "5456"
      ]
     },
     "execution_count": 56,
     "metadata": {},
     "output_type": "execute_result"
    }
   ],
   "source": [
    "checksum(box_ids)"
   ]
  },
  {
   "cell_type": "code",
   "execution_count": 58,
   "metadata": {},
   "outputs": [
    {
     "data": {
      "text/plain": [
       "'megsdlpulxvinkatfoyzxcbvq'"
      ]
     },
     "execution_count": 58,
     "metadata": {},
     "output_type": "execute_result"
    }
   ],
   "source": [
    "from itertools import combinations, compress\n",
    "\n",
    "for one, two in combinations(box_ids, 2):    \n",
    "    diff = [e1 == e2 for e1,e2 in zip(one,two)]    \n",
    "    if sum(diff) == (len(one) - 1):\n",
    "        res2 = ''.join(list(compress(one,diff)))\n",
    "        break\n",
    "        \n",
    "res2"
   ]
  },
  {
   "cell_type": "markdown",
   "metadata": {},
   "source": [
    "## Day 3"
   ]
  },
  {
   "cell_type": "code",
   "execution_count": 59,
   "metadata": {},
   "outputs": [],
   "source": [
    "fo3 = open(\"day3.txt\")\n",
    "claims =  [l.replace(\"\\n\", \"\") for l in fo3.readlines()]"
   ]
  },
  {
   "cell_type": "code",
   "execution_count": 60,
   "metadata": {},
   "outputs": [
    {
     "data": {
      "text/plain": [
       "'#1 @ 912,277: 27x20'"
      ]
     },
     "execution_count": 60,
     "metadata": {},
     "output_type": "execute_result"
    }
   ],
   "source": [
    "claims[0]"
   ]
  },
  {
   "cell_type": "code",
   "execution_count": 66,
   "metadata": {},
   "outputs": [],
   "source": [
    "def parse_claim(s):\n",
    "    identifier, _, dist, size = s.split(' ')\n",
    "    left, top = map(int, dist[:-1].split(','))\n",
    "    width, height = map(int, size.split('x'))\n",
    "    return {\"identifier\": identifier, \"left\": left, \"top\": top, \"width\": width, \"height\": height}\n"
   ]
  },
  {
   "cell_type": "code",
   "execution_count": 64,
   "metadata": {},
   "outputs": [
    {
     "data": {
      "text/plain": [
       "110891"
      ]
     },
     "execution_count": 64,
     "metadata": {},
     "output_type": "execute_result"
    }
   ],
   "source": [
    "def count_overlap(claims):\n",
    "    parsed_claims = [parse_claim(c) for c in claims]\n",
    "    \n",
    "    grid = {i: {k: 0 for k in range(1000)} for i in range(1000)}\n",
    "    def fill_claim(left, top, width, height):\n",
    "        for x in range(left, left+width):\n",
    "            for y in range(top, top+height):\n",
    "                grid[x][y] += 1\n",
    "                \n",
    "    for c in parsed_claims:\n",
    "        fill_claim(**c)\n",
    "        \n",
    "    overlap = 0\n",
    "    for x in range(1000):\n",
    "        for y in range(1000):\n",
    "            if grid[x][y] > 1:\n",
    "               overlap += 1 \n",
    "            \n",
    "    return overlap\n",
    "\n",
    "count_overlap(claims)"
   ]
  },
  {
   "cell_type": "code",
   "execution_count": 78,
   "metadata": {},
   "outputs": [
    {
     "data": {
      "text/plain": [
       "{'#297'}"
      ]
     },
     "execution_count": 78,
     "metadata": {},
     "output_type": "execute_result"
    }
   ],
   "source": [
    "def find_claim_without_overlap(claims):\n",
    "    parsed_claims = [parse_claim(c) for c in claims]\n",
    "    \n",
    "    grid = {i: {k: [] for k in range(1000)} for i in range(1000)}\n",
    "    def fill_claim(identifier, left, top, width, height):\n",
    "        for x in range(left, left+width):\n",
    "            for y in range(top, top+height):\n",
    "                grid[x][y].append(identifier)\n",
    "                \n",
    "    for c in parsed_claims:\n",
    "        fill_claim(**c)\n",
    "        \n",
    "    disqualified = set()\n",
    "    identifiers = set([c[\"identifier\"] for c in parsed_claims])\n",
    "    for x in range(1000):\n",
    "        for y in range(1000):\n",
    "            if len(grid[x][y]) > 1:\n",
    "                disqualified.update(grid[x][y])\n",
    "    return identifiers - disqualified\n",
    "        \n",
    "find_claim_without_overlap(claims)\n"
   ]
  },
  {
   "cell_type": "markdown",
   "metadata": {},
   "source": [
    "## Day 4"
   ]
  },
  {
   "cell_type": "code",
   "execution_count": 80,
   "metadata": {},
   "outputs": [],
   "source": [
    "# sort records chronologically\n",
    "# tally up sleeping time for all guards\n",
    "# find guard y with most sleeping time\n",
    "# find the minute that guard y sleeps the most\n",
    "\n",
    "fo4 = open(\"day4.txt\")\n",
    "records =  [l.replace(\"\\n\", \"\") for l in fo4.readlines()]"
   ]
  },
  {
   "cell_type": "code",
   "execution_count": 88,
   "metadata": {},
   "outputs": [
    {
     "data": {
      "text/plain": [
       "['[1518-02-05 00:00] Guard #3109 begins shift',\n",
       " '[1518-02-05 00:50] falls asleep',\n",
       " '[1518-02-05 00:54] wakes up',\n",
       " '[1518-02-05 00:57] falls asleep',\n",
       " '[1518-02-05 00:58] wakes up',\n",
       " '[1518-02-06 00:03] Guard #2411 begins shift',\n",
       " '[1518-02-06 00:07] falls asleep',\n",
       " '[1518-02-06 00:43] wakes up',\n",
       " '[1518-02-06 23:52] Guard #3109 begins shift',\n",
       " '[1518-02-07 00:03] falls asleep']"
      ]
     },
     "execution_count": 88,
     "metadata": {},
     "output_type": "execute_result"
    }
   ],
   "source": [
    "chronological_records = sorted(records, key=lambda r: (r.split(' ')[0][1:], r.split(' ')[:-1]))\n",
    "chronological_records[:10]"
   ]
  },
  {
   "cell_type": "code",
   "execution_count": 122,
   "metadata": {},
   "outputs": [
    {
     "data": {
      "text/plain": [
       "101262"
      ]
     },
     "execution_count": 122,
     "metadata": {},
     "output_type": "execute_result"
    }
   ],
   "source": [
    "def generate_log(records):\n",
    "    guard_sleeping_times = {}\n",
    "    for record in records:\n",
    "        items = record.split(\" \")\n",
    "        time = int(items[1][3:5])\n",
    "        if \"begins shift\" in record:\n",
    "            guard_no = items[3][1:]\n",
    "        elif \"falls asleep\" in record:\n",
    "            start_time = time\n",
    "        elif \"wakes up\" in record:\n",
    "            if guard_no in guard_sleeping_times:\n",
    "                guard_sleeping_times[guard_no].append((start_time, time))\n",
    "            else:\n",
    "                guard_sleeping_times[guard_no] = [(start_time, time)]\n",
    "    return guard_sleeping_times\n",
    "\n",
    "def solution_day4(records):\n",
    "    logs = generate_log(records)\n",
    "    laziest_guard_thus_far = 0\n",
    "    longest_time_slept = 0\n",
    "    for k, v in logs.items():\n",
    "        v = sum([i[1] - i[0] for i in v])\n",
    "        if v > longest_time_slept:\n",
    "            longest_time_slept = v\n",
    "            laziest_guard_thus_far = k\n",
    "    sleeping_times = logs[laziest_guard_thus_far]\n",
    "    freq_map = {}\n",
    "    for (s, e) in sleeping_times:\n",
    "        for i in range(s, e):\n",
    "            if i in freq_map:\n",
    "                freq_map[i] += 1\n",
    "            else:\n",
    "                freq_map[i] = 1\n",
    "    inv_map = {v: k for k, v in freq_map.items()}\n",
    "    return inv_map[max(freq_map.values())] * int(laziest_guard_thus_far)\n",
    "\n",
    "solution_day4(chronological_records)"
   ]
  },
  {
   "cell_type": "code",
   "execution_count": 139,
   "metadata": {},
   "outputs": [
    {
     "data": {
      "text/plain": [
       "71976"
      ]
     },
     "execution_count": 139,
     "metadata": {},
     "output_type": "execute_result"
    }
   ],
   "source": [
    "def solution_day4_part2(records):\n",
    "    logs = generate_log(records)\n",
    "    minutes = {k: {} for k in range(60)}\n",
    "    for k, v in logs.items():\n",
    "        for (s, e) in v:\n",
    "            for i in range(s, e):\n",
    "                if k in minutes[i]:\n",
    "                    minutes[i][k] += 1\n",
    "                else:\n",
    "                    minutes[i][k] = 1\n",
    "    \n",
    "    most_frequent_thus_far = 0\n",
    "    most_frequent_minute_thus_far = 0\n",
    "    guard_guilty_of_above_crime = 0\n",
    "    for minute, freq_map in minutes.items():\n",
    "        if len(freq_map.values()) == 0:\n",
    "            continue\n",
    "        most_frequent = max(freq_map.values())\n",
    "        inv_map = {v: k for k, v in freq_map.items()}\n",
    "        if most_frequent > most_frequent_thus_far:\n",
    "            most_frequent_thus_far = most_frequent\n",
    "            most_frequent_minute_thus_far = minute\n",
    "            guard_guilty_of_above_crime = inv_map[most_frequent]\n",
    "            \n",
    "    return most_frequent_minute_thus_far * int(guard_guilty_of_above_crime)\n",
    "            \n",
    "    \n",
    "solution_day4_part2(chronological_records)"
   ]
  },
  {
   "cell_type": "markdown",
   "metadata": {},
   "source": [
    "## Day 5"
   ]
  },
  {
   "cell_type": "code",
   "execution_count": 5,
   "metadata": {},
   "outputs": [],
   "source": [
    "fo5 = open(\"day5.txt\")\n",
    "polymer_str =  [l.replace(\"\\n\", \"\") for l in fo5.readlines()][0]"
   ]
  },
  {
   "cell_type": "code",
   "execution_count": 39,
   "metadata": {},
   "outputs": [
    {
     "data": {
      "text/plain": [
       "9386"
      ]
     },
     "execution_count": 39,
     "metadata": {},
     "output_type": "execute_result"
    }
   ],
   "source": [
    "from string import *\n",
    "\n",
    "def collapse(s):\n",
    "    p = ['.']\n",
    "    for u in s:\n",
    "        last = p[-1]\n",
    "        if last != u and last.lower() == u.lower():\n",
    "            p.pop()\n",
    "        else:\n",
    "            p.append(u)\n",
    "    return len(p) - 1\n",
    "\n",
    "collapse(polymer_str)"
   ]
  },
  {
   "cell_type": "code",
   "execution_count": 44,
   "metadata": {},
   "outputs": [
    {
     "data": {
      "text/plain": [
       "4876"
      ]
     },
     "execution_count": 44,
     "metadata": {},
     "output_type": "execute_result"
    }
   ],
   "source": [
    "from string import ascii_lowercase\n",
    "\n",
    "freq = {}\n",
    "for c in ascii_lowercase:\n",
    "    freq[c] = collapse(polymer_str.replace(c, \"\").replace(c.upper(), \"\"))\n",
    "    \n",
    "min(freq.values())"
   ]
  },
  {
   "cell_type": "markdown",
   "metadata": {},
   "source": [
    "## Day 6"
   ]
  },
  {
   "cell_type": "code",
   "execution_count": 7,
   "metadata": {},
   "outputs": [],
   "source": [
    "fo6 = open(\"day6.txt\")\n",
    "locations =  [l.replace(\"\\n\", \"\") for l in fo6.readlines()]"
   ]
  },
  {
   "cell_type": "code",
   "execution_count": 25,
   "metadata": {},
   "outputs": [],
   "source": [
    "coords = [location.split(\",\") for location in locations]\n",
    "xvals = [int(coord[0]) for coord in coords]\n",
    "yvals = [int(coord[1]) for coord in coords]\n",
    "miny, maxy = min(yvals), max(yvals)\n",
    "minx, maxx = min(xvals), max(xvals)\n",
    "grid = {x: {y: \".\" for y in range(miny-1,maxy+2)} for x in range(minx-1, maxx+2)}"
   ]
  },
  {
   "cell_type": "code",
   "execution_count": 26,
   "metadata": {},
   "outputs": [],
   "source": [
    "locations = [(int(coord[0]), int(coord[1])) for coord in coords]\n",
    "\n",
    "def manhattan_distance(coord, locations):\n",
    "    \"\"\"\n",
    "    for a given coordinate with competing locations, return \".\" if the\n",
    "    coord is equally far from two or more coordinates or the tuple of the closest\n",
    "    location as measured by the manhattan distance\n",
    "    \"\"\"\n",
    "    smallest_thus_far = distance_between_tuples(coord, locations[0])\n",
    "    unique = True\n",
    "    da_tuple = locations[0]\n",
    "    for location in locations[1:]:\n",
    "        distance = distance_between_tuples(coord, location)\n",
    "        if smallest_thus_far > distance:\n",
    "            smallest_thus_far = distance\n",
    "            unique = True\n",
    "            da_tuple = location\n",
    "        elif smallest_thus_far == distance:\n",
    "            unique = False\n",
    "    if unique == False:\n",
    "        return \".\"\n",
    "    else:\n",
    "        return da_tuple\n",
    "        \n",
    "def distance_between_tuples(tpl1, tpl2):\n",
    "    return abs(tpl1[0] - tpl2[0]) + abs(tpl1[1] - tpl2[1])\n",
    "\n",
    "for row_no, rows in grid.items():\n",
    "    for col_no, point in rows.items():\n",
    "        grid[row_no][col_no] = manhattan_distance((row_no, col_no), locations)"
   ]
  },
  {
   "cell_type": "code",
   "execution_count": 35,
   "metadata": {},
   "outputs": [],
   "source": [
    "# all tuples listed as the closest for border squares are disqualified as the\n",
    "\n",
    "left, right = grid[minx-1].values(), grid[maxx+1].values()\n",
    "top, bottom = [col[miny-1] for _, col in grid.items()], [col[maxy-1] for _, col in grid.items()]\n",
    "disqualified = list(set(list(left) + list(right) + top + bottom))"
   ]
  },
  {
   "cell_type": "code",
   "execution_count": 46,
   "metadata": {},
   "outputs": [
    {
     "data": {
      "text/plain": [
       "3620"
      ]
     },
     "execution_count": 46,
     "metadata": {},
     "output_type": "execute_result"
    }
   ],
   "source": [
    "areas = {}\n",
    "for row_no, rows in grid.items():\n",
    "    for col_no, point in rows.items():\n",
    "        winner = grid[row_no][col_no]\n",
    "        if winner in disqualified:\n",
    "            continue\n",
    "        elif winner in areas:\n",
    "            areas[winner] += 1\n",
    "        else:\n",
    "            areas[winner] = 1\n",
    "            \n",
    "#inv_map = {v: k for k, v in areas.items()}\n",
    "max(areas.values())"
   ]
  },
  {
   "cell_type": "code",
   "execution_count": 52,
   "metadata": {},
   "outputs": [
    {
     "data": {
      "text/plain": [
       "39930"
      ]
     },
     "execution_count": 52,
     "metadata": {},
     "output_type": "execute_result"
    }
   ],
   "source": [
    "size = 0\n",
    "\n",
    "for row_no, rows in grid.items():\n",
    "    for col_no, point in rows.items():\n",
    "        winner = grid[row_no][col_no]\n",
    "        if sum([distance_between_tuples((row_no, col_no), location) for location in locations]) < 10000:\n",
    "            size += 1\n",
    "        \n",
    "size"
   ]
  },
  {
   "cell_type": "code",
   "execution_count": null,
   "metadata": {},
   "outputs": [],
   "source": []
  }
 ],
 "metadata": {
  "kernelspec": {
   "display_name": "Python 3",
   "language": "python",
   "name": "python3"
  },
  "language_info": {
   "codemirror_mode": {
    "name": "ipython",
    "version": 3
   },
   "file_extension": ".py",
   "mimetype": "text/x-python",
   "name": "python",
   "nbconvert_exporter": "python",
   "pygments_lexer": "ipython3",
   "version": "3.6.4"
  }
 },
 "nbformat": 4,
 "nbformat_minor": 2
}
